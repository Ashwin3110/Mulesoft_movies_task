{
 "cells": [
  {
   "cell_type": "code",
   "execution_count": 1,
   "id": "f7a0b94d",
   "metadata": {},
   "outputs": [],
   "source": [
    "import sqlite3"
   ]
  },
  {
   "cell_type": "code",
   "execution_count": 2,
   "id": "7109cb19",
   "metadata": {},
   "outputs": [],
   "source": [
    "conn = sqlite3.connect('movie_detail.db')"
   ]
  },
  {
   "cell_type": "code",
   "execution_count": 4,
   "id": "bb57a86a",
   "metadata": {},
   "outputs": [],
   "source": [
    "c = conn.cursor()"
   ]
  },
  {
   "cell_type": "code",
   "execution_count": 5,
   "id": "fdfbbcce",
   "metadata": {},
   "outputs": [
    {
     "data": {
      "text/plain": [
       "<sqlite3.Cursor at 0x1dfd9ca8260>"
      ]
     },
     "execution_count": 5,
     "metadata": {},
     "output_type": "execute_result"
    }
   ],
   "source": [
    "#c.execute(\"\"\" create table list_movie (\n",
    "#        movie_id int PRIMARY KEY,\n",
    "#        movie_name VARCHAR(100) NOT NULL,\n",
    "#        Actor_name VARCHAR(100),\n",
    "#        Actress_name VARCHAR(100),\n",
    "#        Director_Name VARCHAR(100),\n",
    "#        Release_year YEAR[(2|4)]);  \"\"\")"
   ]
  },
  {
   "cell_type": "code",
   "execution_count": 6,
   "id": "fd5efa43",
   "metadata": {},
   "outputs": [
    {
     "data": {
      "text/plain": [
       "<sqlite3.Cursor at 0x1dfd9ca8260>"
      ]
     },
     "execution_count": 6,
     "metadata": {},
     "output_type": "execute_result"
    }
   ],
   "source": [
    "#c.execute(\"insert into list_movie values(1,'3 idiots','Amir khan','Kareena Kapoor','Rajkumar Hirani',2009)\")\n",
    "#c.execute(\"insert into list_movie values(2,'Happy New Year','Shah Rukh Khan','Deepika Padukone','Farah Khan',2014)\")\n",
    "#c.execute(\"insert into list_movie values(3,'Bajrangi Bhaijaan','Salman Khan','Kareena Kapoor','Kabir Khan',2015)\")\n",
    "#c.execute(\"insert into list_movie values(4,'Dilwale','Shah Rukh Khan','Kajol','Rohit Shetty',2015)\")\n",
    "#c.execute(\"insert into list_movie values(5,'Raees','Shah Rukh Khan','Mahira Khan','Rahul Dholakia',2017)\")"
   ]
  },
  {
   "cell_type": "code",
   "execution_count": 7,
   "id": "bc8d662e",
   "metadata": {},
   "outputs": [
    {
     "data": {
      "text/plain": [
       "<sqlite3.Cursor at 0x1dfd9ca8260>"
      ]
     },
     "execution_count": 7,
     "metadata": {},
     "output_type": "execute_result"
    }
   ],
   "source": [
    "c.execute(\"SELECT * FROM list_movie\")"
   ]
  },
  {
   "cell_type": "code",
   "execution_count": 8,
   "id": "7e18c2e8",
   "metadata": {},
   "outputs": [
    {
     "name": "stdout",
     "output_type": "stream",
     "text": [
      "[(1, '3 idiots', 'Amir khan', 'Kareena Kapoor', 'Rajkumar Hirani', 2009), (2, 'Happy New Year', 'Shah Rukh Khan', 'Deepika Padukone', 'Farah Khan', 2014), (3, 'Bajrangi Bhaijaan', 'Salman Khan', 'Kareena Kapoor', 'Kabir Khan', 2015), (4, 'Dilwale', 'Shah Rukh Khan', 'Kajol', 'Rohit Shetty', 2015), (5, 'Raees', 'Shah Rukh Khan', 'Mahira Khan', 'Rahul Dholakia', 2017)]\n"
     ]
    }
   ],
   "source": [
    "print(c.fetchall())"
   ]
  },
  {
   "cell_type": "code",
   "execution_count": 9,
   "id": "200742a2",
   "metadata": {},
   "outputs": [
    {
     "data": {
      "text/plain": [
       "<sqlite3.Cursor at 0x1dfd9ca8260>"
      ]
     },
     "execution_count": 9,
     "metadata": {},
     "output_type": "execute_result"
    }
   ],
   "source": [
    "c.execute(\"SELECT movie_name FROM list_movie WHERE Actor_name = 'Shah Rukh Khan'\")"
   ]
  },
  {
   "cell_type": "code",
   "execution_count": 10,
   "id": "23b7bd2c",
   "metadata": {},
   "outputs": [
    {
     "name": "stdout",
     "output_type": "stream",
     "text": [
      "[('Happy New Year',), ('Dilwale',), ('Raees',)]\n"
     ]
    }
   ],
   "source": [
    "print(c.fetchall())"
   ]
  },
  {
   "cell_type": "code",
   "execution_count": 11,
   "id": "ca518f79",
   "metadata": {},
   "outputs": [],
   "source": [
    "conn.commit()\n",
    "conn.close()"
   ]
  },
  {
   "cell_type": "code",
   "execution_count": null,
   "id": "57fe6ece",
   "metadata": {},
   "outputs": [],
   "source": []
  }
 ],
 "metadata": {
  "kernelspec": {
   "display_name": "Python 3 (ipykernel)",
   "language": "python",
   "name": "python3"
  },
  "language_info": {
   "codemirror_mode": {
    "name": "ipython",
    "version": 3
   },
   "file_extension": ".py",
   "mimetype": "text/x-python",
   "name": "python",
   "nbconvert_exporter": "python",
   "pygments_lexer": "ipython3",
   "version": "3.9.7"
  }
 },
 "nbformat": 4,
 "nbformat_minor": 5
}
